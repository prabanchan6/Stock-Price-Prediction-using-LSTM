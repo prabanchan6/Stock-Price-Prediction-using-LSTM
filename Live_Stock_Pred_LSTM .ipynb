{
  "nbformat": 4,
  "nbformat_minor": 0,
  "metadata": {
    "colab": {
      "name": "Live_Stock-Pred_LSTM.ipynb",
      "provenance": [],
      "collapsed_sections": []
    },
    "kernelspec": {
      "name": "python3",
      "display_name": "Python 3"
    }
  },
  "cells": [
    {
      "cell_type": "code",
      "metadata": {
        "id": "JWxQGGI_mWt5"
      },
      "source": [
        "import pandas as pd\n",
        "import numpy as np\n",
        "\n",
        "import matplotlib.pyplot as plt\n",
        "import seaborn as sns\n",
        "sns.set_style('whitegrid')\n",
        "plt.style.use(\"fivethirtyeight\")\n",
        "%matplotlib inline\n",
        "\n",
        "# For reading stock data from yahoo\n",
        "from pandas_datareader.data import DataReader\n",
        "\n",
        "# For time stamps\n",
        "from datetime import datetime"
      ],
      "execution_count": null,
      "outputs": []
    },
    {
      "cell_type": "code",
      "metadata": {
        "colab": {
          "base_uri": "https://localhost:8080/",
          "height": 455
        },
        "id": "bBESARxSmPtQ",
        "outputId": "c64b448d-9365-4bf6-a686-53ea39d3c865"
      },
      "source": [
        "#Get the stock quote\n",
        "df = DataReader('AAPL', data_source='yahoo', start='2015-01-01', end=datetime.now())\n",
        "#Show teh data\n",
        "df"
      ],
      "execution_count": null,
      "outputs": [
        {
          "output_type": "execute_result",
          "data": {
            "text/html": [
              "<div>\n",
              "<style scoped>\n",
              "    .dataframe tbody tr th:only-of-type {\n",
              "        vertical-align: middle;\n",
              "    }\n",
              "\n",
              "    .dataframe tbody tr th {\n",
              "        vertical-align: top;\n",
              "    }\n",
              "\n",
              "    .dataframe thead th {\n",
              "        text-align: right;\n",
              "    }\n",
              "</style>\n",
              "<table border=\"1\" class=\"dataframe\">\n",
              "  <thead>\n",
              "    <tr style=\"text-align: right;\">\n",
              "      <th></th>\n",
              "      <th>High</th>\n",
              "      <th>Low</th>\n",
              "      <th>Open</th>\n",
              "      <th>Close</th>\n",
              "      <th>Volume</th>\n",
              "      <th>Adj Close</th>\n",
              "    </tr>\n",
              "    <tr>\n",
              "      <th>Date</th>\n",
              "      <th></th>\n",
              "      <th></th>\n",
              "      <th></th>\n",
              "      <th></th>\n",
              "      <th></th>\n",
              "      <th></th>\n",
              "    </tr>\n",
              "  </thead>\n",
              "  <tbody>\n",
              "    <tr>\n",
              "      <th>2015-01-02</th>\n",
              "      <td>27.860001</td>\n",
              "      <td>26.837500</td>\n",
              "      <td>27.847500</td>\n",
              "      <td>27.332500</td>\n",
              "      <td>212818400.0</td>\n",
              "      <td>24.861401</td>\n",
              "    </tr>\n",
              "    <tr>\n",
              "      <th>2015-01-05</th>\n",
              "      <td>27.162500</td>\n",
              "      <td>26.352501</td>\n",
              "      <td>27.072500</td>\n",
              "      <td>26.562500</td>\n",
              "      <td>257142000.0</td>\n",
              "      <td>24.161013</td>\n",
              "    </tr>\n",
              "    <tr>\n",
              "      <th>2015-01-06</th>\n",
              "      <td>26.857500</td>\n",
              "      <td>26.157499</td>\n",
              "      <td>26.635000</td>\n",
              "      <td>26.565001</td>\n",
              "      <td>263188400.0</td>\n",
              "      <td>24.163294</td>\n",
              "    </tr>\n",
              "    <tr>\n",
              "      <th>2015-01-07</th>\n",
              "      <td>27.049999</td>\n",
              "      <td>26.674999</td>\n",
              "      <td>26.799999</td>\n",
              "      <td>26.937500</td>\n",
              "      <td>160423600.0</td>\n",
              "      <td>24.502111</td>\n",
              "    </tr>\n",
              "    <tr>\n",
              "      <th>2015-01-08</th>\n",
              "      <td>28.037500</td>\n",
              "      <td>27.174999</td>\n",
              "      <td>27.307501</td>\n",
              "      <td>27.972500</td>\n",
              "      <td>237458000.0</td>\n",
              "      <td>25.443539</td>\n",
              "    </tr>\n",
              "    <tr>\n",
              "      <th>...</th>\n",
              "      <td>...</td>\n",
              "      <td>...</td>\n",
              "      <td>...</td>\n",
              "      <td>...</td>\n",
              "      <td>...</td>\n",
              "      <td>...</td>\n",
              "    </tr>\n",
              "    <tr>\n",
              "      <th>2021-03-01</th>\n",
              "      <td>127.930000</td>\n",
              "      <td>122.790001</td>\n",
              "      <td>123.750000</td>\n",
              "      <td>127.790001</td>\n",
              "      <td>115998300.0</td>\n",
              "      <td>127.790001</td>\n",
              "    </tr>\n",
              "    <tr>\n",
              "      <th>2021-03-02</th>\n",
              "      <td>128.720001</td>\n",
              "      <td>125.010002</td>\n",
              "      <td>128.410004</td>\n",
              "      <td>125.120003</td>\n",
              "      <td>102015300.0</td>\n",
              "      <td>125.120003</td>\n",
              "    </tr>\n",
              "    <tr>\n",
              "      <th>2021-03-03</th>\n",
              "      <td>125.709999</td>\n",
              "      <td>121.839996</td>\n",
              "      <td>124.809998</td>\n",
              "      <td>122.059998</td>\n",
              "      <td>112430400.0</td>\n",
              "      <td>122.059998</td>\n",
              "    </tr>\n",
              "    <tr>\n",
              "      <th>2021-03-04</th>\n",
              "      <td>123.599998</td>\n",
              "      <td>118.620003</td>\n",
              "      <td>121.750000</td>\n",
              "      <td>120.129997</td>\n",
              "      <td>177275300.0</td>\n",
              "      <td>120.129997</td>\n",
              "    </tr>\n",
              "    <tr>\n",
              "      <th>2021-03-05</th>\n",
              "      <td>121.940002</td>\n",
              "      <td>117.570000</td>\n",
              "      <td>120.980003</td>\n",
              "      <td>121.419998</td>\n",
              "      <td>153590400.0</td>\n",
              "      <td>121.419998</td>\n",
              "    </tr>\n",
              "  </tbody>\n",
              "</table>\n",
              "<p>1554 rows × 6 columns</p>\n",
              "</div>"
            ],
            "text/plain": [
              "                  High         Low  ...       Volume   Adj Close\n",
              "Date                                ...                         \n",
              "2015-01-02   27.860001   26.837500  ...  212818400.0   24.861401\n",
              "2015-01-05   27.162500   26.352501  ...  257142000.0   24.161013\n",
              "2015-01-06   26.857500   26.157499  ...  263188400.0   24.163294\n",
              "2015-01-07   27.049999   26.674999  ...  160423600.0   24.502111\n",
              "2015-01-08   28.037500   27.174999  ...  237458000.0   25.443539\n",
              "...                ...         ...  ...          ...         ...\n",
              "2021-03-01  127.930000  122.790001  ...  115998300.0  127.790001\n",
              "2021-03-02  128.720001  125.010002  ...  102015300.0  125.120003\n",
              "2021-03-03  125.709999  121.839996  ...  112430400.0  122.059998\n",
              "2021-03-04  123.599998  118.620003  ...  177275300.0  120.129997\n",
              "2021-03-05  121.940002  117.570000  ...  153590400.0  121.419998\n",
              "\n",
              "[1554 rows x 6 columns]"
            ]
          },
          "metadata": {
            "tags": []
          },
          "execution_count": 4
        }
      ]
    },
    {
      "cell_type": "code",
      "metadata": {
        "colab": {
          "base_uri": "https://localhost:8080/",
          "height": 518
        },
        "id": "c-MmqTDY1TtA",
        "outputId": "39ed24d8-7184-4d25-e0a5-9c7a5355d5cc"
      },
      "source": [
        "plt.figure(figsize=(16,8))\n",
        "plt.title('Close Price History')\n",
        "plt.plot(df['Close'])\n",
        "plt.xlabel('Date', fontsize=18)\n",
        "plt.ylabel('Close Price USD ($)', fontsize=18)\n",
        "plt.show()"
      ],
      "execution_count": null,
      "outputs": [
        {
          "output_type": "display_data",
          "data": {
            "image/png": "[encoded data removed]",
            "text/plain": [
              "<Figure size 1152x576 with 1 Axes>"
            ]
          },
          "metadata": {
            "tags": [],
            "needs_background": "light"
          }
        }
      ]
    },
    {
      "cell_type": "code",
      "metadata": {
        "colab": {
          "base_uri": "https://localhost:8080/"
        },
        "id": "NA_k4LWHmQ6R",
        "outputId": "6e9febc6-1b6d-46cf-ea8c-36a8645e9dbe"
      },
      "source": [
        "#Create a new dataframe with only the 'Close column\n",
        "data = df.filter(['Close'])\n",
        "#Convert the dataframe to a numpy array\n",
        "dataset = data.values\n",
        "#Get the number of rows to train the model on\n",
        "training_data_len = int(np.ceil( len(dataset) * .8 ))\n",
        "\n",
        "training_data_len"
      ],
      "execution_count": null,
      "outputs": [
        {
          "output_type": "execute_result",
          "data": {
            "text/plain": [
              "1244"
            ]
          },
          "metadata": {
            "tags": []
          },
          "execution_count": 3
        }
      ]
    },
    {
      "cell_type": "code",
      "metadata": {
        "colab": {
          "base_uri": "https://localhost:8080/"
        },
        "id": "kOYVfkyCmfWo",
        "outputId": "a3955862-9f2c-4138-efae-5c138bf44ff1"
      },
      "source": [
        "#Scale the data\n",
        "from sklearn.preprocessing import MinMaxScaler\n",
        "\n",
        "scaler = MinMaxScaler(feature_range=(0,1))\n",
        "scaled_data = scaler.fit_transform(dataset)\n",
        "\n",
        "scaled_data"
      ],
      "execution_count": null,
      "outputs": [
        {
          "output_type": "execute_result",
          "data": {
            "text/plain": [
              "array([[0.03937384],\n",
              "       [0.03298777],\n",
              "       [0.03300851],\n",
              "       ...,\n",
              "       [0.82500514],\n",
              "       [0.8089985 ],\n",
              "       [0.81969725]])"
            ]
          },
          "metadata": {
            "tags": []
          },
          "execution_count": 4
        }
      ]
    },
    {
      "cell_type": "code",
      "metadata": {
        "colab": {
          "base_uri": "https://localhost:8080/"
        },
        "id": "khDbT-81miXQ",
        "outputId": "fc7ee679-65c9-42c4-a38c-3abc01ac8282"
      },
      "source": [
        "#Create the training data set\n",
        "#Create the scaled training data set\n",
        "train_data = scaled_data[0:int(training_data_len), :]\n",
        "#Split the data into x_train and y_train data sets\n",
        "x_train = []\n",
        "y_train = []\n",
        "\n",
        "for i in range(60, len(train_data)):\n",
        "    x_train.append(train_data[i-60:i, 0])\n",
        "    y_train.append(train_data[i, 0])\n",
        "    if i<= 61:\n",
        "        print(x_train)\n",
        "        print(y_train)\n",
        "        print()\n",
        "        \n",
        "# Convert the x_train and y_train to numpy arrays \n",
        "x_train, y_train = np.array(x_train), np.array(y_train)\n",
        "\n",
        "#Reshape the data\n",
        "x_train = np.reshape(x_train, (x_train.shape[0], x_train.shape[1], 1))\n",
        "# x_train.shape"
      ],
      "execution_count": null,
      "outputs": [
        {
          "output_type": "stream",
          "text": [
            "[array([0.03937384, 0.03298777, 0.03300851, 0.03609787, 0.04468174,\n",
            "       0.04493055, 0.03920797, 0.04121917, 0.04034834, 0.03416961,\n",
            "       0.03244869, 0.03810907, 0.03982999, 0.04573918, 0.04694175,\n",
            "       0.04719055, 0.03897989, 0.05177276, 0.05921626, 0.05560856,\n",
            "       0.05865644, 0.05869791, 0.0605847 , 0.0613726 , 0.05927846,\n",
            "       0.06091645, 0.06568526, 0.07161518, 0.07489115, 0.07617666,\n",
            "       0.07773171, 0.07957703, 0.07901721, 0.08119428, 0.08845118,\n",
            "       0.08673025, 0.07972216, 0.0831018 , 0.07903796, 0.08034418,\n",
            "       0.08090401, 0.07920381, 0.07478749, 0.07518142, 0.07630106,\n",
            "       0.07084803, 0.06614141, 0.07072361, 0.06894049, 0.07176031,\n",
            "       0.07609372, 0.07905868, 0.07704749, 0.07373005, 0.0764462 ,\n",
            "       0.07536804, 0.06850508, 0.0702882 , 0.06823554, 0.07470455])]\n",
            "[0.07068215358294894]\n",
            "\n",
            "[array([0.03937384, 0.03298777, 0.03300851, 0.03609787, 0.04468174,\n",
            "       0.04493055, 0.03920797, 0.04121917, 0.04034834, 0.03416961,\n",
            "       0.03244869, 0.03810907, 0.03982999, 0.04573918, 0.04694175,\n",
            "       0.04719055, 0.03897989, 0.05177276, 0.05921626, 0.05560856,\n",
            "       0.05865644, 0.05869791, 0.0605847 , 0.0613726 , 0.05927846,\n",
            "       0.06091645, 0.06568526, 0.07161518, 0.07489115, 0.07617666,\n",
            "       0.07773171, 0.07957703, 0.07901721, 0.08119428, 0.08845118,\n",
            "       0.08673025, 0.07972216, 0.0831018 , 0.07903796, 0.08034418,\n",
            "       0.08090401, 0.07920381, 0.07478749, 0.07518142, 0.07630106,\n",
            "       0.07084803, 0.06614141, 0.07072361, 0.06894049, 0.07176031,\n",
            "       0.07609372, 0.07905868, 0.07704749, 0.07373005, 0.0764462 ,\n",
            "       0.07536804, 0.06850508, 0.0702882 , 0.06823554, 0.07470455]), array([0.03298777, 0.03300851, 0.03609787, 0.04468174, 0.04493055,\n",
            "       0.03920797, 0.04121917, 0.04034834, 0.03416961, 0.03244869,\n",
            "       0.03810907, 0.03982999, 0.04573918, 0.04694175, 0.04719055,\n",
            "       0.03897989, 0.05177276, 0.05921626, 0.05560856, 0.05865644,\n",
            "       0.05869791, 0.0605847 , 0.0613726 , 0.05927846, 0.06091645,\n",
            "       0.06568526, 0.07161518, 0.07489115, 0.07617666, 0.07773171,\n",
            "       0.07957703, 0.07901721, 0.08119428, 0.08845118, 0.08673025,\n",
            "       0.07972216, 0.0831018 , 0.07903796, 0.08034418, 0.08090401,\n",
            "       0.07920381, 0.07478749, 0.07518142, 0.07630106, 0.07084803,\n",
            "       0.06614141, 0.07072361, 0.06894049, 0.07176031, 0.07609372,\n",
            "       0.07905868, 0.07704749, 0.07373005, 0.0764462 , 0.07536804,\n",
            "       0.06850508, 0.0702882 , 0.06823554, 0.07470455, 0.07068215])]\n",
            "[0.07068215358294894, 0.0703089412704006]\n",
            "\n"
          ],
          "name": "stdout"
        }
      ]
    },
    {
      "cell_type": "code",
      "metadata": {
        "colab": {
          "base_uri": "https://localhost:8080/"
        },
        "id": "QXuKewUZmnhq",
        "outputId": "6fc32c47-122e-4859-9919-b00200ec19ed"
      },
      "source": [
        "from keras.models import Sequential\n",
        "from keras.layers import Dense, LSTM\n",
        "\n",
        "#Build the LSTM model\n",
        "model = Sequential()\n",
        "model.add(LSTM(128, return_sequences=True, input_shape= (x_train.shape[1], 1)))\n",
        "model.add(LSTM(64, return_sequences=False))\n",
        "model.add(Dense(25))\n",
        "model.add(Dense(1))\n",
        "\n",
        "# Compile the model\n",
        "model.compile(optimizer='adam', loss='mean_squared_error')\n",
        "\n",
        "#Train the model\n",
        "model.fit(x_train, y_train, batch_size=1, epochs=1)"
      ],
      "execution_count": null,
      "outputs": [
        {
          "output_type": "stream",
          "text": [
            "1184/1184 [==============================] - 37s 29ms/step - loss: 4.5492e-04\n"
          ],
          "name": "stdout"
        },
        {
          "output_type": "execute_result",
          "data": {
            "text/plain": [
              "<tensorflow.python.keras.callbacks.History at 0x7fcd236168d0>"
            ]
          },
          "metadata": {
            "tags": []
          },
          "execution_count": 6
        }
      ]
    },
    {
      "cell_type": "code",
      "metadata": {
        "colab": {
          "base_uri": "https://localhost:8080/"
        },
        "id": "YaoA0ZwImske",
        "outputId": "7719414b-9281-44fa-9292-1e60f2d79cef"
      },
      "source": [
        "#Create the testing data set\n",
        "#Create a new array containing scaled values from index 1543 to 2002 \n",
        "test_data = scaled_data[training_data_len - 60: , :]\n",
        "#Create the data sets x_test and y_test\n",
        "x_test = []\n",
        "y_test = dataset[training_data_len:, :]\n",
        "for i in range(60, len(test_data)):\n",
        "    x_test.append(test_data[i-60:i, 0])\n",
        "    \n",
        "# Convert the data to a numpy array\n",
        "x_test = np.array(x_test)\n",
        "\n",
        "# Reshape the data\n",
        "x_test = np.reshape(x_test, (x_test.shape[0], x_test.shape[1], 1 ))\n",
        "\n",
        "# Get the models predicted price values \n",
        "predictions = model.predict(x_test)\n",
        "predictions = scaler.inverse_transform(predictions)\n",
        "\n",
        "# Get the root mean squared error (RMSE)\n",
        "rmse = np.sqrt(np.mean(((predictions - y_test) ** 2)))\n",
        "rmse"
      ],
      "execution_count": null,
      "outputs": [
        {
          "output_type": "execute_result",
          "data": {
            "text/plain": [
              "6.039214409427897"
            ]
          },
          "metadata": {
            "tags": []
          },
          "execution_count": 7
        }
      ]
    },
    {
      "cell_type": "code",
      "metadata": {
        "colab": {
          "base_uri": "https://localhost:8080/",
          "height": 630
        },
        "id": "Fe_QwfSDnJ3A",
        "outputId": "7a221247-e7f4-4f3e-fa90-b3380d57c4bb"
      },
      "source": [
        "# Plot the data\n",
        "train = data[:training_data_len]\n",
        "valid = data[training_data_len:]\n",
        "valid['Predictions'] = predictions\n",
        "# Visualize the data\n",
        "plt.figure(figsize=(16,8))\n",
        "plt.title('Prediction using LSTM Model', fontsize=20)\n",
        "plt.xlabel('Time', fontsize=20)\n",
        "plt.ylabel('Close Price USD ($)', fontsize=20)\n",
        "plt.plot(train['Close'])\n",
        "plt.plot(valid[['Close', 'Predictions']])\n",
        "plt.legend(['Training Data value', 'Actual Value', 'Predicted value'], loc='lower right')\n",
        "plt.show()"
      ],
      "execution_count": null,
      "outputs": [
        {
          "output_type": "stream",
          "text": [
            "/usr/local/lib/python3.7/dist-packages/ipykernel_launcher.py:4: SettingWithCopyWarning: \n",
            "A value is trying to be set on a copy of a slice from a DataFrame.\n",
            "Try using .loc[row_indexer,col_indexer] = value instead\n",
            "\n",
            "See the caveats in the documentation: https://pandas.pydata.org/pandas-docs/stable/user_guide/indexing.html#returning-a-view-versus-a-copy\n",
            "  after removing the cwd from sys.path.\n"
          ],
          "name": "stderr"
        },
        {
          "output_type": "display_data",
          "data": {
            "image/png": "[encoded data removed]",
            "text/plain": [
              "<Figure size 1152x576 with 1 Axes>"
            ]
          },
          "metadata": {
            "tags": [],
            "needs_background": "light"
          }
        }
      ]
    },
    {
      "cell_type": "code",
      "metadata": {
        "colab": {
          "base_uri": "https://localhost:8080/",
          "height": 455
        },
        "id": "VgF8dvYJnQDh",
        "outputId": "1aa07313-8832-43ac-ebfe-a9440e83f7a9"
      },
      "source": [
        "valid"
      ],
      "execution_count": null,
      "outputs": [
        {
          "output_type": "execute_result",
          "data": {
            "text/html": [
              "<div>\n",
              "<style scoped>\n",
              "    .dataframe tbody tr th:only-of-type {\n",
              "        vertical-align: middle;\n",
              "    }\n",
              "\n",
              "    .dataframe tbody tr th {\n",
              "        vertical-align: top;\n",
              "    }\n",
              "\n",
              "    .dataframe thead th {\n",
              "        text-align: right;\n",
              "    }\n",
              "</style>\n",
              "<table border=\"1\" class=\"dataframe\">\n",
              "  <thead>\n",
              "    <tr style=\"text-align: right;\">\n",
              "      <th></th>\n",
              "      <th>Close</th>\n",
              "      <th>Predictions</th>\n",
              "    </tr>\n",
              "    <tr>\n",
              "      <th>Date</th>\n",
              "      <th></th>\n",
              "      <th></th>\n",
              "    </tr>\n",
              "  </thead>\n",
              "  <tbody>\n",
              "    <tr>\n",
              "      <th>2019-12-11</th>\n",
              "      <td>67.692497</td>\n",
              "      <td>65.504707</td>\n",
              "    </tr>\n",
              "    <tr>\n",
              "      <th>2019-12-12</th>\n",
              "      <td>67.864998</td>\n",
              "      <td>65.793533</td>\n",
              "    </tr>\n",
              "    <tr>\n",
              "      <th>2019-12-13</th>\n",
              "      <td>68.787498</td>\n",
              "      <td>66.078453</td>\n",
              "    </tr>\n",
              "    <tr>\n",
              "      <th>2019-12-16</th>\n",
              "      <td>69.964996</td>\n",
              "      <td>66.470207</td>\n",
              "    </tr>\n",
              "    <tr>\n",
              "      <th>2019-12-17</th>\n",
              "      <td>70.102501</td>\n",
              "      <td>67.044128</td>\n",
              "    </tr>\n",
              "    <tr>\n",
              "      <th>...</th>\n",
              "      <td>...</td>\n",
              "      <td>...</td>\n",
              "    </tr>\n",
              "    <tr>\n",
              "      <th>2021-03-01</th>\n",
              "      <td>127.790001</td>\n",
              "      <td>117.129822</td>\n",
              "    </tr>\n",
              "    <tr>\n",
              "      <th>2021-03-02</th>\n",
              "      <td>125.120003</td>\n",
              "      <td>117.368797</td>\n",
              "    </tr>\n",
              "    <tr>\n",
              "      <th>2021-03-03</th>\n",
              "      <td>122.059998</td>\n",
              "      <td>117.729767</td>\n",
              "    </tr>\n",
              "    <tr>\n",
              "      <th>2021-03-04</th>\n",
              "      <td>120.129997</td>\n",
              "      <td>117.539024</td>\n",
              "    </tr>\n",
              "    <tr>\n",
              "      <th>2021-03-05</th>\n",
              "      <td>121.419998</td>\n",
              "      <td>116.799881</td>\n",
              "    </tr>\n",
              "  </tbody>\n",
              "</table>\n",
              "<p>310 rows × 2 columns</p>\n",
              "</div>"
            ],
            "text/plain": [
              "                 Close  Predictions\n",
              "Date                               \n",
              "2019-12-11   67.692497    65.504707\n",
              "2019-12-12   67.864998    65.793533\n",
              "2019-12-13   68.787498    66.078453\n",
              "2019-12-16   69.964996    66.470207\n",
              "2019-12-17   70.102501    67.044128\n",
              "...                ...          ...\n",
              "2021-03-01  127.790001   117.129822\n",
              "2021-03-02  125.120003   117.368797\n",
              "2021-03-03  122.059998   117.729767\n",
              "2021-03-04  120.129997   117.539024\n",
              "2021-03-05  121.419998   116.799881\n",
              "\n",
              "[310 rows x 2 columns]"
            ]
          },
          "metadata": {
            "tags": []
          },
          "execution_count": 9
        }
      ]
    },
    {
      "cell_type": "markdown",
      "metadata": {
        "id": "yzwEqNFUAz7k"
      },
      "source": [
        "Prediction of Apple Stock Price with a RMSE of 6.04."
      ]
    }
  ]
}